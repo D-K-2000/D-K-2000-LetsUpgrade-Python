{
  "nbformat": 4,
  "nbformat_minor": 0,
  "metadata": {
    "colab": {
      "name": "LU Python DAY 3 Assignment.ipynb",
      "provenance": [],
      "authorship_tag": "ABX9TyMPtdx6I7PEXWTbHHRr2N4x",
      "include_colab_link": true
    },
    "kernelspec": {
      "name": "python3",
      "display_name": "Python 3"
    }
  },
  "cells": [
    {
      "cell_type": "markdown",
      "metadata": {
        "id": "view-in-github",
        "colab_type": "text"
      },
      "source": [
        "<a href=\"https://colab.research.google.com/github/D-K-2000/D-K-2000-LetsUpgrade-Python/blob/master/LU_Python_DAY_3_Assignment.ipynb\" target=\"_parent\"><img src=\"https://colab.research.google.com/assets/colab-badge.svg\" alt=\"Open In Colab\"/></a>"
      ]
    },
    {
      "cell_type": "code",
      "metadata": {
        "id": "63MQBxx644Ci",
        "colab_type": "code",
        "colab": {
          "base_uri": "https://localhost:8080/",
          "height": 50
        },
        "outputId": "ed364a5c-dd47-4d98-ac31-cc30f1ad1106"
      },
      "source": [
        "#Question 1:\n",
        "\n",
        "\n",
        "altitude = input(\"Enter the altitude:\")\n",
        "altitude = int(altitude)\n",
        "if altitude > 5000:\n",
        "  print(\"Turn Around\")\n",
        "elif altitude > 1000:\n",
        "  print(\"Bring down to 1000ft\")\n",
        "else:\n",
        "  print(\"Safe to land\")\n",
        "\n"
      ],
      "execution_count": 4,
      "outputs": [
        {
          "output_type": "stream",
          "text": [
            "Enter the altitude:2000\n",
            "Bring down to 1000ft\n"
          ],
          "name": "stdout"
        }
      ]
    },
    {
      "cell_type": "code",
      "metadata": {
        "id": "dbROmoyi5gNI",
        "colab_type": "code",
        "colab": {
          "base_uri": "https://localhost:8080/",
          "height": 50
        },
        "outputId": "5783876a-328d-4952-e763-a471965f72f5"
      },
      "source": [
        "altitude = input(\"Enter the altitude:\")\n",
        "altitude = int(altitude)\n",
        "if altitude > 5000:\n",
        "  print(\"Turn Around\")\n",
        "elif altitude > 1000:\n",
        "  print(\"Bring down to 1000ft\")\n",
        "else:\n",
        "  print(\"Safe to land\")\n"
      ],
      "execution_count": 6,
      "outputs": [
        {
          "output_type": "stream",
          "text": [
            "Enter the altitude:6000\n",
            "Turn Around\n"
          ],
          "name": "stdout"
        }
      ]
    },
    {
      "cell_type": "code",
      "metadata": {
        "id": "O0TEAwYy6L_2",
        "colab_type": "code",
        "colab": {
          "base_uri": "https://localhost:8080/",
          "height": 50
        },
        "outputId": "bfc7874b-fa9f-4650-b401-519f44b23743"
      },
      "source": [
        "altitude = input(\"Enter the altitude:\")\n",
        "altitude = int(altitude)\n",
        "if altitude > 5000:\n",
        "  print(\"Turn Around\")\n",
        "elif altitude > 1000:\n",
        "  print(\"Bring down to 1000ft\")\n",
        "else:\n",
        "  print(\"Safe to land\")\n"
      ],
      "execution_count": 7,
      "outputs": [
        {
          "output_type": "stream",
          "text": [
            "Enter the altitude:500\n",
            "Safe to land\n"
          ],
          "name": "stdout"
        }
      ]
    },
    {
      "cell_type": "code",
      "metadata": {
        "id": "VDsEqS-j6phr",
        "colab_type": "code",
        "colab": {
          "base_uri": "https://localhost:8080/",
          "height": 806
        },
        "outputId": "e3c88744-0889-47b9-d45c-9133b77f4c86"
      },
      "source": [
        "#Question 2:\n",
        "\n",
        "lower = 1\n",
        "upper = 200\n",
        "print(\"Prime numbers between\", lower, \"and\" ,upper, \"are:\")\n",
        "for num in range(lower,upper + 1):\n",
        "  if num > 1:\n",
        "   for i in range(2,num):\n",
        "      if(num % i ) == 0:\n",
        "        break\n",
        "   else:\n",
        "    print(num)"
      ],
      "execution_count": 25,
      "outputs": [
        {
          "output_type": "stream",
          "text": [
            "Prime numbers between 1 and 200 are:\n",
            "2\n",
            "3\n",
            "5\n",
            "7\n",
            "11\n",
            "13\n",
            "17\n",
            "19\n",
            "23\n",
            "29\n",
            "31\n",
            "37\n",
            "41\n",
            "43\n",
            "47\n",
            "53\n",
            "59\n",
            "61\n",
            "67\n",
            "71\n",
            "73\n",
            "79\n",
            "83\n",
            "89\n",
            "97\n",
            "101\n",
            "103\n",
            "107\n",
            "109\n",
            "113\n",
            "127\n",
            "131\n",
            "137\n",
            "139\n",
            "149\n",
            "151\n",
            "157\n",
            "163\n",
            "167\n",
            "173\n",
            "179\n",
            "181\n",
            "191\n",
            "193\n",
            "197\n",
            "199\n"
          ],
          "name": "stdout"
        }
      ]
    },
    {
      "cell_type": "code",
      "metadata": {
        "id": "daqk3AD57kv-",
        "colab_type": "code",
        "colab": {}
      },
      "source": [
        ""
      ],
      "execution_count": null,
      "outputs": []
    }
  ]
}