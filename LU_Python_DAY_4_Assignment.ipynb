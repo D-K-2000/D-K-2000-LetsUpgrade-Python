{
  "nbformat": 4,
  "nbformat_minor": 0,
  "metadata": {
    "kernelspec": {
      "display_name": "Python 3",
      "language": "python",
      "name": "python3"
    },
    "language_info": {
      "codemirror_mode": {
        "name": "ipython",
        "version": 3
      },
      "file_extension": ".py",
      "mimetype": "text/x-python",
      "name": "python",
      "nbconvert_exporter": "python",
      "pygments_lexer": "ipython3",
      "version": "3.7.6"
    },
    "colab": {
      "name": "LU_Python_DAY_4_Assignment.ipynb",
      "provenance": [],
      "include_colab_link": true
    }
  },
  "cells": [
    {
      "cell_type": "markdown",
      "metadata": {
        "id": "view-in-github",
        "colab_type": "text"
      },
      "source": [
        "<a href=\"https://colab.research.google.com/github/D-K-2000/D-K-2000-LetsUpgrade-Python/blob/master/LU_Python_DAY_4_Assignment.ipynb\" target=\"_parent\"><img src=\"https://colab.research.google.com/assets/colab-badge.svg\" alt=\"Open In Colab\"/></a>"
      ]
    },
    {
      "cell_type": "code",
      "metadata": {
        "id": "IX0QkFdXOTWp",
        "colab_type": "code",
        "colab": {
          "base_uri": "https://localhost:8080/",
          "height": 34
        },
        "outputId": "c5e19774-b3c0-4023-80d8-c14f00aa67b6"
      },
      "source": [
        "#Question 4\n",
        "\n",
        "for num in range(1042000,702648265):\n",
        "    order=len(str(num))\n",
        "    temp=num\n",
        "    sum=0\n",
        "    while temp >0:\n",
        "        digit=temp%10\n",
        "        sum=sum+digit**order\n",
        "        temp=temp//10\n",
        "        \n",
        "        break\n",
        "    if sum==num:\n",
        "            \n",
        "            print('The first armstrong number is ',num)\n",
        "            "
      ],
      "execution_count": null,
      "outputs": [
        {
          "output_type": "stream",
          "text": [
            "The first armstrong number is  4782969\n"
          ],
          "name": "stdout"
        }
      ]
    },
    {
      "cell_type": "code",
      "metadata": {
        "id": "7Zn4SGTNOTWv",
        "colab_type": "code",
        "colab": {}
      },
      "source": [
        ""
      ],
      "execution_count": null,
      "outputs": []
    }
  ]
}