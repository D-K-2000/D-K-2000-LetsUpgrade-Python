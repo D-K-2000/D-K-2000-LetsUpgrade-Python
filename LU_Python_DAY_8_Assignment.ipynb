{
  "nbformat": 4,
  "nbformat_minor": 0,
  "metadata": {
    "colab": {
      "name": "LU_Python_DAY_8_Assignment.ipynb",
      "provenance": [],
      "authorship_tag": "ABX9TyPc8ULPaJ47SQASQ44FZnNx",
      "include_colab_link": true
    },
    "kernelspec": {
      "name": "python3",
      "display_name": "Python 3"
    }
  },
  "cells": [
    {
      "cell_type": "markdown",
      "metadata": {
        "id": "view-in-github",
        "colab_type": "text"
      },
      "source": [
        "<a href=\"https://colab.research.google.com/github/D-K-2000/D-K-2000-LetsUpgrade-Python/blob/master/LU_Python_DAY_8_Assignment.ipynb\" target=\"_parent\"><img src=\"https://colab.research.google.com/assets/colab-badge.svg\" alt=\"Open In Colab\"/></a>"
      ]
    },
    {
      "cell_type": "code",
      "metadata": {
        "id": "ksXsDMa8o3Tk",
        "colab_type": "code",
        "colab": {
          "base_uri": "https://localhost:8080/",
          "height": 34
        },
        "outputId": "e0c89aaa-ce1d-4a18-bfe4-6de1e3785c45"
      },
      "source": [
        "# Quesion1\n",
        "\n",
        "def fibfunc(f):\n",
        "    memo = {}\n",
        "    def helper(x):\n",
        "        if x not in memo:            \n",
        "            memo[x] = f(x)\n",
        "        return memo[x]\n",
        "    return helper\n",
        "    \n",
        "\n",
        "def fib(n):\n",
        "    if n == 0:\n",
        "        return 0\n",
        "    elif n == 1:\n",
        "        return 1\n",
        "    else:\n",
        "        return fib(n-1) + fib(n-2)\n",
        "\n",
        "fib = fibfunc(fib)\n",
        "print(fib(10))"
      ],
      "execution_count": 4,
      "outputs": [
        {
          "output_type": "stream",
          "text": [
            "55\n"
          ],
          "name": "stdout"
        }
      ]
    },
    {
      "cell_type": "code",
      "metadata": {
        "id": "0zBFE22qq-U6",
        "colab_type": "code",
        "colab": {
          "base_uri": "https://localhost:8080/",
          "height": 101
        },
        "outputId": "3b6c862b-03b8-423d-9dd6-35b08fd2f44e"
      },
      "source": [
        "# Question 2\n",
        "\n",
        "file = open(\"testfile.txt\", \"w\")\n",
        "file.write(\"This is the testing file.\")\n",
        "\n",
        "\n",
        "\n",
        "try:\n",
        "    file = open(\"testfile.txt\",\"r\")\n",
        "    print(file.read())\n",
        "    file.write(\"\\n Can i write??.\")\n",
        "    print(\"\\nTask Done\")\n",
        "\n",
        "except Exception as e:\n",
        "    print(\"\\n an error has occured\")\n",
        "    print(\"\\nError message is :\",e)"
      ],
      "execution_count": 13,
      "outputs": [
        {
          "output_type": "stream",
          "text": [
            "This is the testing file.\n",
            "\n",
            " an error has occured\n",
            "\n",
            "Error message is : not writable\n"
          ],
          "name": "stdout"
        }
      ]
    }
  ]
}