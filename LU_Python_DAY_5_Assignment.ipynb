{
  "nbformat": 4,
  "nbformat_minor": 0,
  "metadata": {
    "colab": {
      "name": "LU Python DAY 5 Assignment.ipynb",
      "provenance": [],
      "collapsed_sections": [],
      "authorship_tag": "ABX9TyM7oDhjD6RsmrFhL9bIK+K+",
      "include_colab_link": true
    },
    "kernelspec": {
      "name": "python3",
      "display_name": "Python 3"
    }
  },
  "cells": [
    {
      "cell_type": "markdown",
      "metadata": {
        "id": "view-in-github",
        "colab_type": "text"
      },
      "source": [
        "<a href=\"https://colab.research.google.com/github/D-K-2000/D-K-2000-LetsUpgrade-Python/blob/master/LU_Python_DAY_5_Assignment.ipynb\" target=\"_parent\"><img src=\"https://colab.research.google.com/assets/colab-badge.svg\" alt=\"Open In Colab\"/></a>"
      ]
    },
    {
      "cell_type": "code",
      "metadata": {
        "id": "sLYRmvBNWm5J",
        "colab_type": "code",
        "colab": {
          "base_uri": "https://localhost:8080/",
          "height": 84
        },
        "outputId": "75e82dd6-230a-405f-b3a2-357b88363e13"
      },
      "source": [
        "#Question 1\n",
        "\n",
        "x = [1,5,6,4,1,2,3,5]\n",
        "y = [1,5,6,4,1,2,3,5]\n",
        "z = [1,5,6,4,1,2,3,6]\n",
        "\n",
        "def check(a,b):\n",
        "    for i in a:\n",
        "        for j in b:\n",
        "            if(len(b)>=0 and j == i):\n",
        "                b.pop(0)\n",
        "            else:\n",
        "                break\n",
        "    return b\n",
        "\n",
        "if len(check(x,y))==0:\n",
        "    print(\"Its a match\")\n",
        "else: print(\"Its gone\")\n",
        "\n",
        "print (\"For y String\",check(x,y))\n",
        "\n",
        "if len(check(x,z))==0:\n",
        "    print(\"Its a match\")\n",
        "else: print(\"Its gone\")\n",
        "\n",
        "print (\"For z String\",check(x,z))\n"
      ],
      "execution_count": 12,
      "outputs": [
        {
          "output_type": "stream",
          "text": [
            "Its a match\n",
            "For y String []\n",
            "Its gone\n",
            "For z String []\n"
          ],
          "name": "stdout"
        }
      ]
    },
    {
      "cell_type": "code",
      "metadata": {
        "id": "2Xlcr88jdZ9m",
        "colab_type": "code",
        "colab": {
          "base_uri": "https://localhost:8080/",
          "height": 87
        },
        "outputId": "ce99588a-202c-4eae-ed73-2023c9ec77fe"
      },
      "source": [
        "#Question 2\n",
        "\n",
        "def is_prime(i):\n",
        "    for j in range(2,i):\n",
        "        if i % j == 0:      \n",
        "            break       \n",
        "    else:      \n",
        "        return i\n",
        "\n",
        "primeNo = filter(is_prime, range(1, 2500+1))\n",
        "print ('Prime numbers between 1-2500 are:\\n')\n",
        "print(list(primeNo))\n"
      ],
      "execution_count": null,
      "outputs": [
        {
          "output_type": "stream",
          "text": [
            "Prime numbers between 1-2500 are:\n",
            "\n",
            "[1, 2, 3, 5, 7, 11, 13, 17, 19, 23, 29, 31, 37, 41, 43, 47, 53, 59, 61, 67, 71, 73, 79, 83, 89, 97, 101, 103, 107, 109, 113, 127, 131, 137, 139, 149, 151, 157, 163, 167, 173, 179, 181, 191, 193, 197, 199, 211, 223, 227, 229, 233, 239, 241, 251, 257, 263, 269, 271, 277, 281, 283, 293, 307, 311, 313, 317, 331, 337, 347, 349, 353, 359, 367, 373, 379, 383, 389, 397, 401, 409, 419, 421, 431, 433, 439, 443, 449, 457, 461, 463, 467, 479, 487, 491, 499, 503, 509, 521, 523, 541, 547, 557, 563, 569, 571, 577, 587, 593, 599, 601, 607, 613, 617, 619, 631, 641, 643, 647, 653, 659, 661, 673, 677, 683, 691, 701, 709, 719, 727, 733, 739, 743, 751, 757, 761, 769, 773, 787, 797, 809, 811, 821, 823, 827, 829, 839, 853, 857, 859, 863, 877, 881, 883, 887, 907, 911, 919, 929, 937, 941, 947, 953, 967, 971, 977, 983, 991, 997, 1009, 1013, 1019, 1021, 1031, 1033, 1039, 1049, 1051, 1061, 1063, 1069, 1087, 1091, 1093, 1097, 1103, 1109, 1117, 1123, 1129, 1151, 1153, 1163, 1171, 1181, 1187, 1193, 1201, 1213, 1217, 1223, 1229, 1231, 1237, 1249, 1259, 1277, 1279, 1283, 1289, 1291, 1297, 1301, 1303, 1307, 1319, 1321, 1327, 1361, 1367, 1373, 1381, 1399, 1409, 1423, 1427, 1429, 1433, 1439, 1447, 1451, 1453, 1459, 1471, 1481, 1483, 1487, 1489, 1493, 1499, 1511, 1523, 1531, 1543, 1549, 1553, 1559, 1567, 1571, 1579, 1583, 1597, 1601, 1607, 1609, 1613, 1619, 1621, 1627, 1637, 1657, 1663, 1667, 1669, 1693, 1697, 1699, 1709, 1721, 1723, 1733, 1741, 1747, 1753, 1759, 1777, 1783, 1787, 1789, 1801, 1811, 1823, 1831, 1847, 1861, 1867, 1871, 1873, 1877, 1879, 1889, 1901, 1907, 1913, 1931, 1933, 1949, 1951, 1973, 1979, 1987, 1993, 1997, 1999, 2003, 2011, 2017, 2027, 2029, 2039, 2053, 2063, 2069, 2081, 2083, 2087, 2089, 2099, 2111, 2113, 2129, 2131, 2137, 2141, 2143, 2153, 2161, 2179, 2203, 2207, 2213, 2221, 2237, 2239, 2243, 2251, 2267, 2269, 2273, 2281, 2287, 2293, 2297, 2309, 2311, 2333, 2339, 2341, 2347, 2351, 2357, 2371, 2377, 2381, 2383, 2389, 2393, 2399, 2411, 2417, 2423, 2437, 2441, 2447, 2459, 2467, 2473, 2477]\n"
          ],
          "name": "stdout"
        }
      ]
    },
    {
      "cell_type": "code",
      "metadata": {
        "id": "TKQe7q47iNeF",
        "colab_type": "code",
        "colab": {
          "base_uri": "https://localhost:8080/",
          "height": 134
        },
        "outputId": "12cb4743-053c-4209-8f4d-fece845edd19"
      },
      "source": [
        "#Question 3\n",
        "\n",
        "lst = [\"hey this is dk\",\"i am in mumbai \",\"how are you?\"]\n",
        "print(\"Original list : \\n\")\n",
        "print(lst)\n",
        "res = list(map(lambda words: \" \".join([word.capitalize() for word in words.split( )]) ,lst))\n",
        "print(\"\\nCapitalized list is : \\n\")\n",
        "print(res)\n"
      ],
      "execution_count": 37,
      "outputs": [
        {
          "output_type": "stream",
          "text": [
            "Original list : \n",
            "\n",
            "['hey this is dk', 'i am in mumbai ', 'how are you?']\n",
            "\n",
            "Capitalized list is : \n",
            "\n",
            "['Hey This Is Dk', 'I Am In Mumbai', 'How Are You?']\n"
          ],
          "name": "stdout"
        }
      ]
    }
  ]
}