{
  "nbformat": 4,
  "nbformat_minor": 0,
  "metadata": {
    "colab": {
      "name": "LU_Python_DAY_6_Assignment.ipynb",
      "provenance": [],
      "authorship_tag": "ABX9TyPPO24A7jXPPdHk+hQspuqH",
      "include_colab_link": true
    },
    "kernelspec": {
      "name": "python3",
      "display_name": "Python 3"
    }
  },
  "cells": [
    {
      "cell_type": "markdown",
      "metadata": {
        "id": "view-in-github",
        "colab_type": "text"
      },
      "source": [
        "<a href=\"https://colab.research.google.com/github/D-K-2000/D-K-2000-LetsUpgrade-Python/blob/master/LU_Python_DAY_6_Assignment.ipynb\" target=\"_parent\"><img src=\"https://colab.research.google.com/assets/colab-badge.svg\" alt=\"Open In Colab\"/></a>"
      ]
    },
    {
      "cell_type": "code",
      "metadata": {
        "id": "qknt0Op3mFfN",
        "colab_type": "code",
        "colab": {
          "base_uri": "https://localhost:8080/",
          "height": 34
        },
        "outputId": "bf1113d4-85a6-43ea-c272-bb879993c28c"
      },
      "source": [
        "# Question 1\n",
        "\n",
        "class Bank_Account: \n",
        "    def __init__(self): \n",
        "        self.balance = 0\n",
        "        print(\"New bank account is created!!\") \n",
        "    \n",
        "    def deposit(self):\n",
        "        amount = int(input('Enter the amount to deposit:'))\n",
        "        self.balance += amount\n",
        "        print('Your New Balance = ', self.balance)\n",
        "        \n",
        "    def withdraw(self):\n",
        "        amount = int(input('Enter the amount to withdraw:'))\n",
        "        if (amount > self.balance):\n",
        "            print('Insufficient Balance!')\n",
        "        else:\n",
        "            self.balance -= amount\n",
        "            print('Your Remaining Balance = ', self.balance)\n",
        "            \n",
        "    def info(self):\n",
        "        print('Your Balance = ', self.balance)\n",
        "\n",
        "account = Bank_Account()    "
      ],
      "execution_count": 14,
      "outputs": [
        {
          "output_type": "stream",
          "text": [
            "New bank account is created!!\n"
          ],
          "name": "stdout"
        }
      ]
    },
    {
      "cell_type": "code",
      "metadata": {
        "id": "plX7PX9Zms-B",
        "colab_type": "code",
        "colab": {
          "base_uri": "https://localhost:8080/",
          "height": 34
        },
        "outputId": "d92685ca-c77e-43da-adde-72d58b877a35"
      },
      "source": [
        "account.info()\n"
      ],
      "execution_count": 11,
      "outputs": [
        {
          "output_type": "stream",
          "text": [
            "Your Balance =  0\n"
          ],
          "name": "stdout"
        }
      ]
    },
    {
      "cell_type": "code",
      "metadata": {
        "id": "Mopz9zoFmdKM",
        "colab_type": "code",
        "colab": {
          "base_uri": "https://localhost:8080/",
          "height": 50
        },
        "outputId": "55e36e6e-d530-4a3e-820b-08824d7d0024"
      },
      "source": [
        "account.deposit()"
      ],
      "execution_count": 15,
      "outputs": [
        {
          "output_type": "stream",
          "text": [
            "Enter the amount to deposit:5000\n",
            "Your New Balance =  5000\n"
          ],
          "name": "stdout"
        }
      ]
    },
    {
      "cell_type": "code",
      "metadata": {
        "id": "ovGg9sMInXuw",
        "colab_type": "code",
        "colab": {
          "base_uri": "https://localhost:8080/",
          "height": 50
        },
        "outputId": "1b22e6f6-b7eb-48f0-98f9-c4a8604b21c6"
      },
      "source": [
        "account.withdraw()"
      ],
      "execution_count": 18,
      "outputs": [
        {
          "output_type": "stream",
          "text": [
            "Enter the amount to withdraw:1500\n",
            "Your Remaining Balance =  3500\n"
          ],
          "name": "stdout"
        }
      ]
    },
    {
      "cell_type": "code",
      "metadata": {
        "id": "d6PJV-mRnqXV",
        "colab_type": "code",
        "colab": {
          "base_uri": "https://localhost:8080/",
          "height": 151
        },
        "outputId": "bfb4c3fa-6af6-46c0-c292-81904452d45e"
      },
      "source": [
        "# Question 2\n",
        "\n",
        "import math\n",
        "pi = math.pi\n",
        "\n",
        "class cone:\n",
        "    def __init__(self,r,h): \n",
        "        self.r=r\n",
        "        self.h=h\n",
        "        \n",
        "    def volume(self):\n",
        "        result = (1 / 3) * pi * self.r * self.r * self.h\n",
        "        print(\"\\nVolume Of Cone is :\",result)\n",
        "        \n",
        "    def surfacearea(self):\n",
        "        result = pi * self.r * self.h + pi * self.r * self.r\n",
        "        print(\"\\nSurface Area Of Cone is :\",result)\n",
        "\n",
        "r = float(input(\"\\nEnter the radius of cone : \"))\n",
        "h = float(input(\"\\nEnter the height of cone : \"))\n",
        "c = cone( r, h)\n",
        "\n",
        "c.volume()\n",
        "c.surfacearea()"
      ],
      "execution_count": 20,
      "outputs": [
        {
          "output_type": "stream",
          "text": [
            "\n",
            "Enter the radius of cone : 20\n",
            "\n",
            "Enter the height of cone : 4\n",
            "\n",
            "Volume Of Cone is : 1675.5160819145563\n",
            "\n",
            "Surface Area Of Cone is : 1507.9644737231008\n"
          ],
          "name": "stdout"
        }
      ]
    }
  ]
}